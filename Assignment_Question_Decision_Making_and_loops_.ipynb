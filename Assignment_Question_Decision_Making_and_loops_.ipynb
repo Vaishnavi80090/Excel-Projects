{
  "nbformat": 4,
  "nbformat_minor": 0,
  "metadata": {
    "colab": {
      "provenance": [],
      "include_colab_link": true
    },
    "kernelspec": {
      "name": "python3",
      "display_name": "Python 3"
    },
    "language_info": {
      "name": "python"
    }
  },
  "cells": [
    {
      "cell_type": "markdown",
      "metadata": {
        "id": "view-in-github",
        "colab_type": "text"
      },
      "source": [
        "<a href=\"https://colab.research.google.com/github/Vaishnavi80090/Excel-Projects/blob/main/Assignment_Question_Decision_Making_and_loops_.ipynb\" target=\"_parent\"><img src=\"https://colab.research.google.com/assets/colab-badge.svg\" alt=\"Open In Colab\"/></a>"
      ]
    },
    {
      "cell_type": "markdown",
      "source": [
        "# Practice Questions"
      ],
      "metadata": {
        "id": "17_g98JhJmme"
      }
    },
    {
      "cell_type": "markdown",
      "source": [
        " **Q.1 Check using given length and breadth if given mesaurements will make a rectangle or square.**"
      ],
      "metadata": {
        "id": "edPpPzX-Jw6y"
      }
    },
    {
      "cell_type": "code",
      "execution_count": 1,
      "metadata": {
        "colab": {
          "base_uri": "https://localhost:8080/"
        },
        "id": "p555A6UgA3cc",
        "outputId": "3718ee06-5a6a-42d3-edbd-632e925374b1"
      },
      "outputs": [
        {
          "output_type": "stream",
          "name": "stdout",
          "text": [
            "enter the length89\n",
            "enter the width87\n",
            "rectangle\n"
          ]
        }
      ],
      "source": [
        "#Check using given length and breadth if given mesaurements will make a rectangle or square.\n",
        "l=input(\"enter the length\")\n",
        "b=input(\"enter the width\")\n",
        "if l==b:\n",
        "  print(\"square\")\n",
        "else:\n",
        "  print(\"rectangle\")\n"
      ]
    },
    {
      "cell_type": "markdown",
      "source": [
        "**Q.2 Write a program that prints all the number from 0 to 5 except 3**\n",
        "\n",
        "**Input**: 0, 1, 2, 3, 4, 5 <br>\n",
        "**Output**: 0, 1, 2, 4, 5 "
      ],
      "metadata": {
        "id": "uapWE7j36n-c"
      }
    },
    {
      "cell_type": "code",
      "source": [
        "#Note : Use 'continue' statement.\n",
        "for i in range(0,6):\n",
        "  if i==3:\n",
        "    continue\n",
        "  else:\n",
        "    print(i)"
      ],
      "metadata": {
        "id": "yBcNLvLuJlYK",
        "colab": {
          "base_uri": "https://localhost:8080/"
        },
        "outputId": "9882f449-416a-4444-9fb4-bc6258712d15"
      },
      "execution_count": 3,
      "outputs": [
        {
          "output_type": "stream",
          "name": "stdout",
          "text": [
            "0\n",
            "1\n",
            "2\n",
            "4\n",
            "5\n"
          ]
        }
      ]
    },
    {
      "cell_type": "markdown",
      "source": [
        "**Q.3 Write the sum of all the natural numbers upto 10**"
      ],
      "metadata": {
        "id": "o5Kh76Mb7T1g"
      }
    },
    {
      "cell_type": "code",
      "source": [
        "#Note : Using while loop\n",
        "sum=0\n",
        "i=0\n",
        "n=10\n",
        "while i<n:\n",
        "  i=i+1\n",
        "  sum=sum+i\n",
        "print(sum)\n",
        "\n"
      ],
      "metadata": {
        "colab": {
          "base_uri": "https://localhost:8080/"
        },
        "id": "IcXzJgNL7MX-",
        "outputId": "57279b1c-17c5-46f6-fb83-80e3a8564f72"
      },
      "execution_count": 5,
      "outputs": [
        {
          "output_type": "stream",
          "name": "stdout",
          "text": [
            "55\n"
          ]
        }
      ]
    },
    {
      "cell_type": "markdown",
      "source": [
        "**Q.4 Print all the numbers in the given list in the sequence till the number is divisble by 6**\n",
        "\n",
        "```list_set = [2,4,7,13,19,18,21,23,35,36]```"
      ],
      "metadata": {
        "id": "LCTG5iAR8nGS"
      }
    },
    {
      "cell_type": "code",
      "source": [
        "list_set = [2,4,7,13,19,18,21,23,35,36]\n",
        "for i in list_set:\n",
        "  if i%6!=1:\n",
        "    break\n",
        "  else:\n",
        "    print(i)"
      ],
      "metadata": {
        "id": "iXgM7mSN8Wk9"
      },
      "execution_count": 21,
      "outputs": []
    },
    {
      "cell_type": "markdown",
      "source": [
        "**Q.5 Program to print given pattern**\n",
        "\n",
        "\n",
        "\n",
        "```\n",
        "*\n",
        "**\n",
        "***\n",
        "****\n",
        "*****\n",
        "```\n",
        "\n"
      ],
      "metadata": {
        "id": "Is4uQp7S-Y8G"
      }
    },
    {
      "cell_type": "code",
      "source": [
        "for i in range(1,6):\n",
        "  for j in range(1,i+1):\n",
        "        print('*',end='')\n",
        "  print('')\n"
      ],
      "metadata": {
        "colab": {
          "base_uri": "https://localhost:8080/"
        },
        "id": "Bbfy846abHlu",
        "outputId": "84fd4eac-80ff-4e51-f95c-65ee8f6dc5eb"
      },
      "execution_count": 6,
      "outputs": [
        {
          "output_type": "stream",
          "name": "stdout",
          "text": [
            "*\n",
            "**\n",
            "***\n",
            "****\n",
            "*****\n"
          ]
        }
      ]
    },
    {
      "cell_type": "code",
      "source": [],
      "metadata": {
        "colab": {
          "base_uri": "https://localhost:8080/"
        },
        "id": "N81s16LZ-RHU",
        "outputId": "5557594b-2e5a-4908-b088-b6651696d150"
      },
      "execution_count": null,
      "outputs": [
        {
          "output_type": "stream",
          "name": "stdout",
          "text": [
            "*\n",
            "**\n",
            "***\n",
            "****\n",
            "*****\n"
          ]
        }
      ]
    },
    {
      "cell_type": "markdown",
      "source": [
        "**Q.6 Print the square of all the non-negative whole numbers below 5 in separate lines**\n",
        "\n",
        "\n",
        "```\n",
        "Output:\n",
        "25\n",
        "16\n",
        "9\n",
        "4\n",
        "1\n",
        "```"
      ],
      "metadata": {
        "id": "rDi6_3UcAhor"
      }
    },
    {
      "cell_type": "code",
      "source": [
        "for j in range(5,0,-1):\n",
        "    print(j**2,end='')\n",
        "    print('')"
      ],
      "metadata": {
        "colab": {
          "base_uri": "https://localhost:8080/"
        },
        "id": "K3nXF1uFbpmJ",
        "outputId": "9e8b995c-5c80-4a62-923f-7accda3b492d"
      },
      "execution_count": 12,
      "outputs": [
        {
          "output_type": "stream",
          "name": "stdout",
          "text": [
            "25\n",
            "16\n",
            "9\n",
            "4\n",
            "1\n"
          ]
        }
      ]
    },
    {
      "cell_type": "code",
      "source": [],
      "metadata": {
        "id": "ONEn5T-5anv3"
      },
      "execution_count": null,
      "outputs": []
    },
    {
      "cell_type": "code",
      "source": [],
      "metadata": {
        "colab": {
          "base_uri": "https://localhost:8080/"
        },
        "id": "-1B8xXJtAWGu",
        "outputId": "d8ac460b-d538-4e51-b77d-837cdc435bba"
      },
      "execution_count": null,
      "outputs": [
        {
          "output_type": "stream",
          "name": "stdout",
          "text": [
            "25\n",
            "16\n",
            "9\n",
            "4\n",
            "1\n"
          ]
        }
      ]
    },
    {
      "cell_type": "markdown",
      "source": [
        "**Q.7 Print multiplication table till 10 for numbers from 1 to 9 using a nested while and for loop.**\n",
        "\n",
        "```\n",
        "1 2 3 4 5 6 7 8 9 10 \n",
        "2 4 6 8 10 12 14 16 18 20 \n",
        "3 6 9 12 15 18 21 24 27 30 \n",
        "4 8 12 16 20 24 28 32 36 40 \n",
        "5 10 15 20 25 30 35 40 45 50 \n",
        "6 12 18 24 30 36 42 48 54 60 \n",
        "7 14 21 28 35 42 49 56 63 70 \n",
        "8 16 24 32 40 48 56 64 72 80 \n",
        "9 18 27 36 45 54 63 72 81 90\n",
        "```"
      ],
      "metadata": {
        "id": "3l53bDBi73_o"
      }
    },
    {
      "cell_type": "code",
      "source": [
        "for i in range(1,11):\n",
        "  for j in range(1,11):\n",
        "    print(j*i,end=' ')\n",
        "  print(' ')"
      ],
      "metadata": {
        "id": "zTIxcnoECNqj",
        "colab": {
          "base_uri": "https://localhost:8080/"
        },
        "outputId": "4abd82d6-ef25-400b-b368-090d26d94470"
      },
      "execution_count": 14,
      "outputs": [
        {
          "output_type": "stream",
          "name": "stdout",
          "text": [
            "1 2 3 4 5 6 7 8 9 10  \n",
            "2 4 6 8 10 12 14 16 18 20  \n",
            "3 6 9 12 15 18 21 24 27 30  \n",
            "4 8 12 16 20 24 28 32 36 40  \n",
            "5 10 15 20 25 30 35 40 45 50  \n",
            "6 12 18 24 30 36 42 48 54 60  \n",
            "7 14 21 28 35 42 49 56 63 70  \n",
            "8 16 24 32 40 48 56 64 72 80  \n",
            "9 18 27 36 45 54 63 72 81 90  \n",
            "10 20 30 40 50 60 70 80 90 100  \n"
          ]
        }
      ]
    },
    {
      "cell_type": "markdown",
      "source": [
        "**Q.8 Program to print given pattern**\n",
        "\n",
        "```\n",
        "*****\n",
        "****\n",
        "***\n",
        "**\n",
        "*\n",
        "```"
      ],
      "metadata": {
        "id": "mpokretXMyCi"
      }
    },
    {
      "cell_type": "code",
      "source": [
        "for i in range(1,6):\n",
        "  for j in range(5,i-1,-1):\n",
        "    print('*',end='')\n",
        "  print('')"
      ],
      "metadata": {
        "colab": {
          "base_uri": "https://localhost:8080/"
        },
        "id": "MIiotS7qd5c7",
        "outputId": "ba624c9d-5757-4ffc-90b6-4c708ece94f4"
      },
      "execution_count": 15,
      "outputs": [
        {
          "output_type": "stream",
          "name": "stdout",
          "text": [
            "*****\n",
            "****\n",
            "***\n",
            "**\n",
            "*\n"
          ]
        }
      ]
    },
    {
      "cell_type": "code",
      "source": [],
      "metadata": {
        "colab": {
          "base_uri": "https://localhost:8080/"
        },
        "id": "td2f7EueGIrM",
        "outputId": "349b7936-538b-4d6c-bf5f-6d4d858653e4"
      },
      "execution_count": null,
      "outputs": [
        {
          "output_type": "stream",
          "name": "stdout",
          "text": [
            "*****\n",
            "****\n",
            "***\n",
            "**\n",
            "*\n"
          ]
        }
      ]
    },
    {
      "cell_type": "markdown",
      "source": [
        "**Q.9 Program to print given pattern**\n",
        "\n",
        "```   \n",
        "    *\n",
        "   **\n",
        "  ***\n",
        " ****\n",
        "*****\n",
        "``` "
      ],
      "metadata": {
        "id": "gHgihJaganoB"
      }
    },
    {
      "cell_type": "code",
      "source": [
        "i=0\n",
        "n=5\n",
        "while i<=n:\n",
        "  print(\" \"* (n-i) +\"*\"*i)\n",
        "  i=i+1\n"
      ],
      "metadata": {
        "colab": {
          "base_uri": "https://localhost:8080/"
        },
        "outputId": "57eb2589-9e6b-447c-9783-d85dd3dfe5a4",
        "id": "lThQgApwcm7J"
      },
      "execution_count": 26,
      "outputs": [
        {
          "output_type": "stream",
          "name": "stdout",
          "text": [
            "     \n",
            "    *\n",
            "   **\n",
            "  ***\n",
            " ****\n",
            "*****\n"
          ]
        }
      ]
    },
    {
      "cell_type": "code",
      "source": [],
      "metadata": {
        "colab": {
          "base_uri": "https://localhost:8080/"
        },
        "id": "VRnnHzBja4-M",
        "outputId": "6e3b9bad-da7e-4837-d845-257f98b52fd8"
      },
      "execution_count": null,
      "outputs": [
        {
          "output_type": "stream",
          "name": "stdout",
          "text": [
            "    *\n",
            "   **\n",
            "  ***\n",
            " ****\n",
            "*****\n"
          ]
        }
      ]
    },
    {
      "cell_type": "markdown",
      "source": [
        "**Q.10 Write a programme to find the number of words with length of 5 present in the given sentence.**\n",
        "\n",
        "s = \"The Dowry system is evil in society. It has reduced the sacred affair of marriage to a business deal. Brides are treated as a marketable commodity. The parents of the brides are often put under inhuman pressure for a handsome dowry. Sometimes they become paupers to get their daughters married. In many cases, young brides are ruthlessly tortured or pushed to suicide\""
      ],
      "metadata": {
        "id": "92_tUffCcSfd"
      }
    },
    {
      "cell_type": "code",
      "source": [
        "count=0\n",
        "s = \"The Dowry system is evil in society. It has reduced the sacred affair of marriage to a business deal. Brides are treated as a marketable commodity. The parents of the brides are often put under inhuman pressure for a handsome dowry. Sometimes they become paupers to get their daughters married. In many cases, young brides are ruthlessly tortured or pushed to suicide\"\n",
        "for i in s.split():\n",
        "  if len(i)==5:\n",
        "    count=count+1\n",
        "print(\"total words with length 5 is\",count)"
      ],
      "metadata": {
        "colab": {
          "base_uri": "https://localhost:8080/"
        },
        "id": "IAfkiDqYc287",
        "outputId": "5c38304d-b55c-46a1-b323-ac0f647ab50c"
      },
      "execution_count": 27,
      "outputs": [
        {
          "output_type": "stream",
          "name": "stdout",
          "text": [
            "total words with length 5 is 6\n"
          ]
        }
      ]
    },
    {
      "cell_type": "markdown",
      "source": [
        "**Q.11 Calculate the number of digits and number of characters (it includes letters, digits, special characters including space) in the given string and find the sum of the digits.**\n",
        "\n",
        "```\n",
        "lng_str = \"jjt8g%ust!58thg8rthgurt5out9t yfohu%$lkfw3uw4twkejlrwe7werhwa1khed7fjfslfjd9dhh!ehhl*ksf8fjlko%o995h@g87strf7fef4sen98%t1jj2(jghj6j$&jshh47@dhkljkaf6a\"\n",
        "```"
      ],
      "metadata": {
        "id": "uCv9kT1pdokH"
      }
    },
    {
      "cell_type": "code",
      "source": [
        "sum=0\n",
        "count=0\n",
        "count1=0\n",
        "lng_str = \"jjt8g%ust!58thg8rthgurt5out9t yfohu%$lkfw3uw4twkejlrwe7werhwa1khed7fjfslfjd9dhh!ehhl*ksf8fjlko%o995h@g87strf7fef4sen98%t1jj2(jghj6j$&jshh47@dhkljkaf6a\"\n",
        "for i in lng_str:\n",
        "  if (i.isdigit()):\n",
        "     sum=sum+int(i)\n",
        "     count=count+1\n",
        "  count1=count1+1\n",
        "print(\"digit count is\",count)\n",
        "print(\"digit sum is \",sum)\n",
        "print(\"the charachter is \",count1)\n"
      ],
      "metadata": {
        "colab": {
          "base_uri": "https://localhost:8080/"
        },
        "id": "gtYB2UMuoOAN",
        "outputId": "6c46f22a-766e-43f5-bdb1-2c3504918876"
      },
      "execution_count": 31,
      "outputs": [
        {
          "output_type": "stream",
          "name": "stdout",
          "text": [
            "digit count is 28\n",
            "digit sum is  174\n",
            "the charachter is  150\n"
          ]
        }
      ]
    },
    {
      "cell_type": "code",
      "source": [],
      "metadata": {
        "colab": {
          "base_uri": "https://localhost:8080/"
        },
        "id": "e0gAwkc6dHf7",
        "outputId": "d71dfe75-2e4d-45fc-9e94-98b194741bbd"
      },
      "execution_count": null,
      "outputs": [
        {
          "output_type": "stream",
          "name": "stdout",
          "text": [
            "The number of digits is:\n",
            "28\n",
            "The number of characters is:\n",
            "150\n",
            "The digits sum is:\n",
            "174\n"
          ]
        }
      ]
    },
    {
      "cell_type": "markdown",
      "source": [
        "**Q 12 Calculate the number of digits and number of characters (it includes letters, digits, special characters including space) in the given string and find the sum of the digits.**\n",
        "\n",
        "Input:  khokho <br>\n",
        "Output:  <br>\n",
        "The entered string is symmetrical  <br>\n",
        "The entered string is not palindrome  <br>\n",
        "\n",
        "<br>\n",
        "\n",
        "Input: level  <br>\n",
        "Output:  <br>\n",
        "The entered string is not symmetrical  <br>\n",
        "The entered string is palindrome  <br>\n",
        "\n",
        "<br>\n",
        "\n",
        "Input: radar  <br>\n",
        "Output:  <br>\n",
        "The entered string is not symmetrical  <br>\n",
        "The entered string is palindrome  <br>\n",
        "\n",
        "<br>\n",
        "\n",
        "Input: amaama  <br>\n",
        "Output:  <br>\n",
        "The entered string is symmetrical  <br>\n",
        "The entered string is palindrome  <br>"
      ],
      "metadata": {
        "id": "QkExO7whf634"
      }
    },
    {
      "cell_type": "code",
      "source": [
        "string='level'\n",
        "half=int(len(string)/2)\n",
        "if len(string)%2==0:\n",
        "  first_str=string[:half]\n",
        "  second_str=string[half:]\n",
        "else:\n",
        "  first_str=string[:half]\n",
        "  second_str=string[half+1:]\n",
        "if first_str==second_str:\n",
        "  print(\"it's symmetrical\")\n",
        "else:\n",
        "  print(\"it's not symmetrical\")\n",
        "if first_str==second_str[::-1]:\n",
        "  print(\"it's pallindromic\")\n",
        "else:\n",
        "  print(\"it's not a pallindromic\")"
      ],
      "metadata": {
        "colab": {
          "base_uri": "https://localhost:8080/"
        },
        "id": "ULRrl0c2eQPu",
        "outputId": "e053f715-f18e-41c9-f699-c5dac22e2676"
      },
      "execution_count": 32,
      "outputs": [
        {
          "output_type": "stream",
          "name": "stdout",
          "text": [
            "it's not symmetrical\n",
            "it's pallindromic\n"
          ]
        }
      ]
    },
    {
      "cell_type": "markdown",
      "source": [
        "**Q 13 Write a code to find out the name of the student who have got highest average marsks in homework. Additionally also print the average score**\n",
        "\n"
      ],
      "metadata": {
        "id": "7epuzssbkeI1"
      }
    },
    {
      "cell_type": "code",
      "source": [
        "students = [{'homework': [90.0, 97.0, 75.0, 92.0],\n",
        "  'name': 'Ramesh',\n",
        "  'quizzes': [88.0, 40.0, 94.0],\n",
        "  'tests': [75.0, 90.0]},\n",
        " {'homework': [100.0, 92.0, 98.0, 100.0],\n",
        "  'name': 'Suresh',\n",
        "  'quizzes': [82.0, 83.0, 91.0],\n",
        "  'tests': [89.0, 97.0]},\n",
        " {'homework': [0.0, 87.0, 75.0, 22.0],\n",
        "  'name': 'Diksha',\n",
        "  'quizzes': [0.0, 75.0, 78.0],\n",
        "  'tests': [100.0, 100.0]}]\n",
        "  \n"
      ],
      "metadata": {
        "id": "O38t8E5zgPJn"
      },
      "execution_count": 33,
      "outputs": []
    },
    {
      "cell_type": "code",
      "source": [
        "highest_score=0\n",
        "name_stu=''\n",
        "for stu in students:\n",
        "  for key,values in stu.items():\n",
        "    if key == 'homework':\n",
        "      avg = sum(values)/len(values)\n",
        "    if (highest_score<avg):\n",
        "      highest_score==avg\n",
        "      name_stu=stu[\"name\"]\n",
        "print(name_stu)\n",
        "print(highest_score)"
      ],
      "metadata": {
        "colab": {
          "base_uri": "https://localhost:8080/",
          "height": 235
        },
        "id": "WBW71z72i_Qd",
        "outputId": "f8b62c8e-2c21-4702-a3e8-acb808b1d47d"
      },
      "execution_count": 54,
      "outputs": [
        {
          "output_type": "error",
          "ename": "TypeError",
          "evalue": "ignored",
          "traceback": [
            "\u001b[0;31m---------------------------------------------------------------------------\u001b[0m",
            "\u001b[0;31mTypeError\u001b[0m                                 Traceback (most recent call last)",
            "\u001b[0;32m<ipython-input-54-f97c1408d883>\u001b[0m in \u001b[0;36m<cell line: 3>\u001b[0;34m()\u001b[0m\n\u001b[1;32m      4\u001b[0m   \u001b[0;32mfor\u001b[0m \u001b[0mkey\u001b[0m\u001b[0;34m,\u001b[0m\u001b[0mvalues\u001b[0m \u001b[0;32min\u001b[0m \u001b[0mstu\u001b[0m\u001b[0;34m.\u001b[0m\u001b[0mitems\u001b[0m\u001b[0;34m(\u001b[0m\u001b[0;34m)\u001b[0m\u001b[0;34m:\u001b[0m\u001b[0;34m\u001b[0m\u001b[0;34m\u001b[0m\u001b[0m\n\u001b[1;32m      5\u001b[0m     \u001b[0;32mif\u001b[0m \u001b[0mkey\u001b[0m \u001b[0;34m==\u001b[0m \u001b[0;34m'homework'\u001b[0m\u001b[0;34m:\u001b[0m\u001b[0;34m\u001b[0m\u001b[0;34m\u001b[0m\u001b[0m\n\u001b[0;32m----> 6\u001b[0;31m       \u001b[0mavg\u001b[0m \u001b[0;34m=\u001b[0m \u001b[0msum\u001b[0m\u001b[0;34m(\u001b[0m\u001b[0mvalues\u001b[0m\u001b[0;34m[\u001b[0m\u001b[0;34m:\u001b[0m\u001b[0;34m]\u001b[0m\u001b[0;34m)\u001b[0m\u001b[0;34m/\u001b[0m\u001b[0mlen\u001b[0m\u001b[0;34m(\u001b[0m\u001b[0mvalues\u001b[0m\u001b[0;34m[\u001b[0m\u001b[0;34m:\u001b[0m\u001b[0;34m]\u001b[0m\u001b[0;34m)\u001b[0m\u001b[0;34m\u001b[0m\u001b[0;34m\u001b[0m\u001b[0m\n\u001b[0m\u001b[1;32m      7\u001b[0m     \u001b[0;32mif\u001b[0m \u001b[0;34m(\u001b[0m\u001b[0mhighest_score\u001b[0m\u001b[0;34m<\u001b[0m\u001b[0mavg\u001b[0m\u001b[0;34m)\u001b[0m\u001b[0;34m:\u001b[0m\u001b[0;34m\u001b[0m\u001b[0;34m\u001b[0m\u001b[0m\n\u001b[1;32m      8\u001b[0m       \u001b[0mhighest_score\u001b[0m\u001b[0;34m==\u001b[0m\u001b[0mavg\u001b[0m\u001b[0;34m\u001b[0m\u001b[0;34m\u001b[0m\u001b[0m\n",
            "\u001b[0;31mTypeError\u001b[0m: 'int' object is not callable"
          ]
        }
      ]
    },
    {
      "cell_type": "code",
      "source": [],
      "metadata": {
        "id": "Z0fw7tigI2Qw"
      },
      "execution_count": 54,
      "outputs": []
    }
  ]
}